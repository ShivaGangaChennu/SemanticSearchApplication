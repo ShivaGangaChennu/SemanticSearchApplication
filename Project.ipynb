{
 "cells": [
  {
   "cell_type": "code",
   "execution_count": 16,
   "metadata": {},
   "outputs": [],
   "source": [
    "import csv\n",
    "import pandas as pd\n",
    "import numpy as np\n",
    "import regex as re"
   ]
  },
  {
   "cell_type": "code",
   "execution_count": 2,
   "metadata": {},
   "outputs": [],
   "source": [
    "filename = 'Full-Economic-News-DFE-839861.csv'\n",
    "df = pd.read_csv('Full-Economic-News-DFE-839861.csv')"
   ]
  },
  {
   "cell_type": "code",
   "execution_count": 4,
   "metadata": {},
   "outputs": [],
   "source": [
    "\n",
    "df.to_csv(r'pandas.txt', header = None, index=None, mode='w',columns = ['text'])\n",
    "#df[:2].to_csv(r'pandas.txt', header = None,escapechar = ' ', index=None, mode='w',columns = ['text'],quoting=csv.QUOTE_NONE)"
   ]
  },
  {
   "cell_type": "code",
   "execution_count": 11,
   "metadata": {},
   "outputs": [],
   "source": [
    "news_articles = pd.read_csv('pandas.txt', header  = None)"
   ]
  },
  {
   "cell_type": "code",
   "execution_count": 13,
   "metadata": {},
   "outputs": [
    {
     "data": {
      "text/plain": [
       "str"
      ]
     },
     "execution_count": 13,
     "metadata": {},
     "output_type": "execute_result"
    }
   ],
   "source": [
    "type(news_articles[0][0]) "
   ]
  },
  {
   "cell_type": "code",
   "execution_count": 32,
   "metadata": {},
   "outputs": [
    {
     "data": {
      "text/plain": [
       "'Author: James B. Stewart</br></br>The dreaded \"D\" word is back in circulation, and I don\\'t mean \"depression.\" Having skirted that potential calamity, the worry for policy makers and investors now is deflation.</br></br>On the face of it, deflation--falling prices--doesn\\'t seem like it would be so bad. Who wouldn\\'t welcome discounts that just keep getting better, like those sales at Filene\\'s Basement where prices got lower the longer merchandise stayed on the racks?</br></br>Of course, who knows what it really feels like, since most of us have never experienced prolonged deflation in our lifetime.</br></br>Maybe deflation would be a nice thing for people with secure, steady incomes. But deflation erodes profits and asset values. People wait to buy expecting lower prices, reducing demand. Lower profits cause companies to cut expenses, including employees. It is a downward spiral that, if Japan\\'s experience is any indication, is difficult to arrest.'"
      ]
     },
     "execution_count": 32,
     "metadata": {},
     "output_type": "execute_result"
    }
   ],
   "source": [
    "str1"
   ]
  },
  {
   "cell_type": "code",
   "execution_count": 42,
   "metadata": {},
   "outputs": [
    {
     "data": {
      "text/plain": [
       "['Author: James B',\n",
       " ' Stewart',\n",
       " 'The dreaded \"D\" word is back in circulation, and I don\\'t mean \"depression',\n",
       " '\" Having skirted that potential calamity, the worry for policy makers and investors now is deflation',\n",
       " \"On the face of it, deflation--falling prices--doesn't seem like it would be so bad\",\n",
       " \" Who wouldn't welcome discounts that just keep getting better, like those sales at Filene's Basement where prices got lower the longer merchandise stayed on the racks?\",\n",
       " 'Of course, who knows what it really feels like, since most of us have never experienced prolonged deflation in our lifetime',\n",
       " 'Maybe deflation would be a nice thing for people with secure, steady incomes',\n",
       " ' But deflation erodes profits and asset values',\n",
       " ' People wait to buy expecting lower prices, reducing demand',\n",
       " ' Lower profits cause companies to cut expenses, including employees',\n",
       " \" It is a downward spiral that, if Japan's experience is any indication, is difficult to arrest\",\n",
       " '']"
      ]
     },
     "execution_count": 42,
     "metadata": {},
     "output_type": "execute_result"
    }
   ],
   "source": [
    "def replaceBR(match):\n",
    "    \n",
    "str1 = news_articles[0][12]\n",
    "#str1.replace(\"</br></br>\", \".\")\n",
    "#re.split(\"[.\\n]\",str1)\n",
    "str1 = re.sub(r'</br></br>', '.', str1, flags=re.IGNORECASE)\n",
    "str1 = re.sub(r'\\.\\.', '.', str1, flags=re.IGNORECASE)\n",
    "re.split(\"[.]\",str1)"
   ]
  },
  {
   "cell_type": "code",
   "execution_count": null,
   "metadata": {},
   "outputs": [],
   "source": []
  }
 ],
 "metadata": {
  "kernelspec": {
   "display_name": "Python 2",
   "language": "python",
   "name": "python2"
  },
  "language_info": {
   "codemirror_mode": {
    "name": "ipython",
    "version": 2
   },
   "file_extension": ".py",
   "mimetype": "text/x-python",
   "name": "python",
   "nbconvert_exporter": "python",
   "pygments_lexer": "ipython2",
   "version": "2.7.13"
  }
 },
 "nbformat": 4,
 "nbformat_minor": 2
}
